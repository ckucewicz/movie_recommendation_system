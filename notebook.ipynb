{
 "cells": [
  {
   "cell_type": "markdown",
   "id": "e271f39a",
   "metadata": {},
   "source": [
    "# Movie Recommendation Project"
   ]
  },
  {
   "cell_type": "markdown",
   "id": "efc36375",
   "metadata": {},
   "source": [
    "## Table of Contents\n",
    "\n",
    "### 1. [Business Understanding](#Business-Understanding)\n",
    "* 1.1 [Background](#Background)\n",
    "* 1.2 [Business Goals](#Business-Goals)\n",
    "* 1.3 [Business Success Criteria](#Business-Success-Criteria)\n",
    "   \n",
    "### 2. [Data Understanding](#Data-Understanding)\n",
    "* 2.1 [Importing Packages and Reading in Data](#Importing-Packages-and-Reading-in-Data)\n",
    "* 2.2 [Previewing the Data](#Previewing-the-Data)\n",
    "* 2.3 [Numeric Feature Investigation](#Numeric-Feature-Investigation)\n",
    "  * 2.3.1 [Summary Statistics](#Summary-Statistics)\n",
    "  * 2.3.2 [Distribution Visualizations](#Distribution-Visualizations)\n",
    "* 2.4 [Inspecting Null Values](#Inspecting-Null-Values) \n",
    "* 2.5 [Investigating Cardinality and Feature Contents](#Investigating-Cardinality-and-Feature-Contents)\n",
    "* 2.6 [Inspecting Class Distribution](#Inspecting-Class-Distribution)\n",
    "  * 2.6.1 [Mapping Well Status](#Mapping-Well-Status)\n",
    "* 2.7 [Initial Data Observations](#Initial-Data-Observations)\n",
    "\n",
    "### 3. [Data Preparation](#Data-Preparation)\n",
    "\n",
    "### 4. [Exploratory Data Analysis](#Exploratory-Data-Analysis)\n",
    "\n",
    "\n",
    "### 5. [Modeling](#Modeling)\n",
    "* 5.1 [Train-Test-Split](#Train-Test-Split)\n",
    "  * 5.1.1 [Evaluation Metrics Function](#Evaluation-Metrics-Function)\n",
    "* 5.2 [Baseline Logistic Regression Model](#Baseline-Logistic-Regression-Model)\n",
    "  * 5.2.1 [Preprocessing Categorial Features with `OneHotEncoder()`](#Preprocessing-Categorial-Features-with-`OneHotEncoder()`)\n",
    "  * 5.2.2 [Preprocessing Numeric Features with `MinMaxScaler()`](#Preprocessing-Numeric-Features-with-`MinMaxScaler()`)\n",
    "  * 5.2.3 [Training and Fitting Baseline Model](#Training-and-Fitting-Baseline-Model)\n",
    "  * 5.2.4 [Evaluating Baseline Model](#Evaluating-Baseline-Model)\n",
    "* 5.3 [Training Additional Models](#Training-Additional-Models)\n",
    "  * 5.3.2 [Creating Pipelines for Additional Models](#Creating-Pipelines-for-Additional-Models)\n",
    "  * 5.3.3 [Training and Evaluating New Models](#Training-and-Evaluating-New-Models)\n",
    "* 5.4 [Decision Tree Feature Selection and Hyperparameter Tuning](#Decision-Tree-Feature-Selection-and-Hyperparameter-Tuning)\n",
    "  * 5.4.1 [Feature Selection with `feature_importances_`](#Feature-Selection-with-`feature_importances_`)\n",
    "  * 5.4.2 [Feature Selection with RFE](#Feature-Selection-with-RFE)\n",
    "  * 5.4.3 [Hyperparameter Tuning](#hyperparameter-tuning)\n",
    "* 5.5 [Random Forest Feature Selection and Hyperparameter Tuning](#Random-Forest-Feature-Selection-and-Hyperparameter-Tuning)\n",
    "  * 5.5.1 [Feature Selection with RFE](#Feature-Selection-with-RFE)\n",
    "  * 5.5.2 [Hyperparameter Tuning](#Hyperparameter-Tuning)\n",
    "\n",
    "### 6. [Evaluation](#Final-Model-Evaluation)\n",
    "\n",
    "\n",
    "### 7. [Conclusions](#Conclusions)\n",
    "* 7.1 [Limitations](#Limitations)\n",
    "* 7.2 [Recommendations](#Recommendations)\n",
    "* 7.3 [Next Steps](#Next-Steps)\n",
    "\n",
    "### 8. [Resources](#Resources)"
   ]
  },
  {
   "cell_type": "markdown",
   "id": "30f887d5",
   "metadata": {},
   "source": [
    "## 1. <a name =\"Business-Understanding\"></a> Business Understanding"
   ]
  },
  {
   "cell_type": "markdown",
   "id": "f9a57f93",
   "metadata": {},
   "source": [
    "### 1.1 <a name =\"Background\"></a> Background "
   ]
  },
  {
   "cell_type": "markdown",
   "id": "ee0a4676",
   "metadata": {},
   "source": [
    "### 1.2 <a name =\"Business-Goals\"></a> Business Goals"
   ]
  },
  {
   "cell_type": "markdown",
   "id": "96b83ca6",
   "metadata": {},
   "source": [
    "### 1.3 <a name =\"Business-Success-Criteria\"></a> Business Success Criteria"
   ]
  },
  {
   "cell_type": "markdown",
   "id": "e725c19e",
   "metadata": {},
   "source": [
    "## 2. <a name =\"Data-Understanding\"></a> Data Understanding"
   ]
  },
  {
   "cell_type": "markdown",
   "id": "236cb098",
   "metadata": {},
   "source": [
    "### 2.1 <a name =\"Importing-Packages-and-Reading-in-Data\"></a> Importing Packages and Reading in Data"
   ]
  },
  {
   "cell_type": "markdown",
   "id": "3aba1e68",
   "metadata": {},
   "source": [
    "## 3. <a name =\"Data-Preparation\"></a> Data Preparation"
   ]
  },
  {
   "cell_type": "markdown",
   "id": "e44bc46e",
   "metadata": {},
   "source": [
    "## 4. <a name =\"Exploratory-Data-Analysis\"></a>Exploratory Data Analysis"
   ]
  },
  {
   "cell_type": "markdown",
   "id": "179607cf",
   "metadata": {},
   "source": [
    "## 5. <a name =\"Modeling\"></a>  Modeling"
   ]
  },
  {
   "cell_type": "markdown",
   "id": "e24ab688",
   "metadata": {},
   "source": [
    "## 6. <a name =\"Final-Model-Evaluation\"></a> Evaluation"
   ]
  },
  {
   "cell_type": "markdown",
   "id": "134a5508",
   "metadata": {},
   "source": [
    "## 7. <a name =\"Conclusions\"></a> Conclusions"
   ]
  },
  {
   "cell_type": "markdown",
   "id": "433f5e23",
   "metadata": {},
   "source": [
    "### 7.1 <a name =\"Limitations\"></a> Limitations"
   ]
  },
  {
   "cell_type": "markdown",
   "id": "7c4fcf31",
   "metadata": {},
   "source": [
    "### 7.2 <a name =\"Recommendations\"></a> Recommendations"
   ]
  },
  {
   "cell_type": "markdown",
   "id": "d1419679",
   "metadata": {},
   "source": [
    "### 7.3 <a name =\"Next-Steps\"></a> Next Steps"
   ]
  },
  {
   "cell_type": "markdown",
   "id": "1c509a87",
   "metadata": {},
   "source": []
  },
  {
   "cell_type": "markdown",
   "id": "74c23149",
   "metadata": {},
   "source": []
  },
  {
   "cell_type": "markdown",
   "id": "bdae702e",
   "metadata": {},
   "source": []
  },
  {
   "cell_type": "markdown",
   "id": "b0ea93d2",
   "metadata": {},
   "source": []
  },
  {
   "cell_type": "markdown",
   "id": "8e93c043",
   "metadata": {},
   "source": []
  },
  {
   "cell_type": "markdown",
   "id": "6151d913",
   "metadata": {},
   "source": []
  },
  {
   "cell_type": "markdown",
   "id": "076a884d",
   "metadata": {},
   "source": []
  },
  {
   "cell_type": "markdown",
   "id": "24365a99",
   "metadata": {},
   "source": []
  },
  {
   "cell_type": "markdown",
   "id": "627dee76",
   "metadata": {},
   "source": []
  },
  {
   "cell_type": "markdown",
   "id": "cc88a982",
   "metadata": {},
   "source": []
  }
 ],
 "metadata": {
  "kernelspec": {
   "display_name": "Python (learn-env)",
   "language": "python",
   "name": "learn-env"
  },
  "language_info": {
   "codemirror_mode": {
    "name": "ipython",
    "version": 3
   },
   "file_extension": ".py",
   "mimetype": "text/x-python",
   "name": "python",
   "nbconvert_exporter": "python",
   "pygments_lexer": "ipython3",
   "version": "3.8.5"
  }
 },
 "nbformat": 4,
 "nbformat_minor": 5
}

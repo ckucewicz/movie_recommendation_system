{
 "cells": [
  {
   "cell_type": "markdown",
   "id": "39dab789",
   "metadata": {},
   "source": [
    "# Movie Recommendation Project"
   ]
  },
  {
   "cell_type": "markdown",
   "id": "c8b8b707",
   "metadata": {},
   "source": [
    "## Table of Contents\n",
    "\n",
    "### 1. [Business Understanding](#Business-Understanding)\n",
    "* 1.1 [Background](#Background)\n",
    "* 1.2 [Business Goals](#Business-Goals)\n",
    "* 1.3 [Business Success Criteria](#Business-Success-Criteria)\n",
    "   \n",
    "### 2. [Data Understanding](#Data-Understanding)\n",
    "* 2.1 [Importing Packages and Reading in Data](#Importing-Packages-and-Reading-in-Data)\n",
    "* 2.2 [Previewing the Data](#Previewing-the-Data)\n",
    "* 2.3 [Numeric Feature Investigation](#Numeric-Feature-Investigation)\n",
    "  * 2.3.1 [Summary Statistics](#Summary-Statistics)\n",
    "  * 2.3.2 [Distribution Visualizations](#Distribution-Visualizations)\n",
    "* 2.4 [Inspecting Null Values](#Inspecting-Null-Values) \n",
    "* 2.5 [Investigating Cardinality and Feature Contents](#Investigating-Cardinality-and-Feature-Contents)\n",
    "* 2.6 [Inspecting Class Distribution](#Inspecting-Class-Distribution)\n",
    "  * 2.6.1 [Mapping Well Status](#Mapping-Well-Status)\n",
    "* 2.7 [Initial Data Observations](#Initial-Data-Observations)\n",
    "\n",
    "### 3. [Data Preparation](#Data-Preparation)\n",
    "\n",
    "### 4. [Exploratory Data Analysis](#Exploratory-Data-Analysis)\n",
    "\n",
    "\n",
    "### 5. [Modeling](#Modeling)\n",
    "* 5.1 [Train-Test-Split](#Train-Test-Split)\n",
    "  * 5.1.1 [Evaluation Metrics Function](#Evaluation-Metrics-Function)\n",
    "* 5.2 [Baseline Logistic Regression Model](#Baseline-Logistic-Regression-Model)\n",
    "  * 5.2.1 [Preprocessing Categorial Features with `OneHotEncoder()`](#Preprocessing-Categorial-Features-with-`OneHotEncoder()`)\n",
    "  * 5.2.2 [Preprocessing Numeric Features with `MinMaxScaler()`](#Preprocessing-Numeric-Features-with-`MinMaxScaler()`)\n",
    "  * 5.2.3 [Training and Fitting Baseline Model](#Training-and-Fitting-Baseline-Model)\n",
    "  * 5.2.4 [Evaluating Baseline Model](#Evaluating-Baseline-Model)\n",
    "* 5.3 [Training Additional Models](#Training-Additional-Models)\n",
    "  * 5.3.2 [Creating Pipelines for Additional Models](#Creating-Pipelines-for-Additional-Models)\n",
    "  * 5.3.3 [Training and Evaluating New Models](#Training-and-Evaluating-New-Models)\n",
    "* 5.4 [Decision Tree Feature Selection and Hyperparameter Tuning](#Decision-Tree-Feature-Selection-and-Hyperparameter-Tuning)\n",
    "  * 5.4.1 [Feature Selection with `feature_importances_`](#Feature-Selection-with-`feature_importances_`)\n",
    "  * 5.4.2 [Feature Selection with RFE](#Feature-Selection-with-RFE)\n",
    "  * 5.4.3 [Hyperparameter Tuning](#hyperparameter-tuning)\n",
    "* 5.5 [Random Forest Feature Selection and Hyperparameter Tuning](#Random-Forest-Feature-Selection-and-Hyperparameter-Tuning)\n",
    "  * 5.5.1 [Feature Selection with RFE](#Feature-Selection-with-RFE)\n",
    "  * 5.5.2 [Hyperparameter Tuning](#Hyperparameter-Tuning)\n",
    "\n",
    "### 6. [Evaluation](#Final-Model-Evaluation)\n",
    "\n",
    "\n",
    "### 7. [Conclusions](#Conclusions)\n",
    "* 7.1 [Limitations](#Limitations)\n",
    "* 7.2 [Recommendations](#Recommendations)\n",
    "* 7.3 [Next Steps](#Next-Steps)\n",
    "\n",
    "### 8. [Resources](#Resources)"
   ]
  },
  {
   "cell_type": "markdown",
   "id": "881248d4",
   "metadata": {},
   "source": [
    "## 1. <a name =\"Business-Understanding\"></a> Business Understanding"
   ]
  },
  {
   "cell_type": "markdown",
   "id": "9923a289",
   "metadata": {},
   "source": [
    "### 1.1 <a name =\"Background\"></a> Background "
   ]
  },
  {
   "cell_type": "markdown",
   "id": "9aee4871",
   "metadata": {},
   "source": [
    "The Kanopy app is a movie streaming service widely used by public libraries and universities, offering a vast library of films, documentaries, educational content, and more. While it has a dedicated user base, Kanopy faces challenges in competing with larger, more popular streaming platforms like Netflix and Hulu. A key factor contributing to this challenge is the absence of personalized features, such as movie recommendations. By enhancing the app with a recommendation system, Kanopy can deliver tailored content to users, helping them discover new movies, improve user engagement, and increase user retention. The implementation of a recommendation system is essential to keeping users satisfied and competing with other platforms in the crowded streaming market."
   ]
  },
  {
   "cell_type": "markdown",
   "id": "dcea317e",
   "metadata": {},
   "source": [
    "### 1.2 <a name =\"Business-Goals\"></a> Business Goals"
   ]
  },
  {
   "cell_type": "markdown",
   "id": "d05eab6e",
   "metadata": {},
   "source": [
    "The primary goal of this project is to develop and implement a personalized movie recommendation system for the Kanopy app. The recommendation system will provide users with top 5 movie recommendations based on past ratings and viewing history."
   ]
  },
  {
   "cell_type": "markdown",
   "id": "f3f366f9",
   "metadata": {},
   "source": [
    "### 1.3 <a name =\"Business-Success-Criteria\"></a> Business Success Criteria"
   ]
  },
  {
   "cell_type": "markdown",
   "id": "00505fa3",
   "metadata": {},
   "source": []
  },
  {
   "cell_type": "markdown",
   "id": "b9ea7e4b",
   "metadata": {},
   "source": [
    "## 2. <a name =\"Data-Understanding\"></a> Data Understanding"
   ]
  },
  {
   "cell_type": "markdown",
   "id": "c1842e47",
   "metadata": {},
   "source": [
    "### 2.1 <a name =\"Importing-Packages-and-Reading-in-Data\"></a> Importing Packages and Reading in Data"
   ]
  },
  {
   "cell_type": "code",
   "execution_count": 1,
   "id": "f7909e2b",
   "metadata": {},
   "outputs": [],
   "source": [
    "# importing necessary packages\n",
    "import pandas as pd\n",
    "import numpy as np\n",
    "import matplotlib.pyplot as plt\n",
    "import seaborn as sns\n",
    "%matplotlib inline "
   ]
  },
  {
   "cell_type": "markdown",
   "id": "7ff01303",
   "metadata": {},
   "source": [
    "#### 2.1.1 Movies Dataset"
   ]
  },
  {
   "cell_type": "code",
   "execution_count": 2,
   "id": "503cd232",
   "metadata": {},
   "outputs": [
    {
     "data": {
      "text/html": [
       "<div>\n",
       "<style scoped>\n",
       "    .dataframe tbody tr th:only-of-type {\n",
       "        vertical-align: middle;\n",
       "    }\n",
       "\n",
       "    .dataframe tbody tr th {\n",
       "        vertical-align: top;\n",
       "    }\n",
       "\n",
       "    .dataframe thead th {\n",
       "        text-align: right;\n",
       "    }\n",
       "</style>\n",
       "<table border=\"1\" class=\"dataframe\">\n",
       "  <thead>\n",
       "    <tr style=\"text-align: right;\">\n",
       "      <th></th>\n",
       "      <th>movieId</th>\n",
       "      <th>title</th>\n",
       "      <th>genres</th>\n",
       "    </tr>\n",
       "  </thead>\n",
       "  <tbody>\n",
       "    <tr>\n",
       "      <th>0</th>\n",
       "      <td>1</td>\n",
       "      <td>Toy Story (1995)</td>\n",
       "      <td>Adventure|Animation|Children|Comedy|Fantasy</td>\n",
       "    </tr>\n",
       "    <tr>\n",
       "      <th>1</th>\n",
       "      <td>2</td>\n",
       "      <td>Jumanji (1995)</td>\n",
       "      <td>Adventure|Children|Fantasy</td>\n",
       "    </tr>\n",
       "    <tr>\n",
       "      <th>2</th>\n",
       "      <td>3</td>\n",
       "      <td>Grumpier Old Men (1995)</td>\n",
       "      <td>Comedy|Romance</td>\n",
       "    </tr>\n",
       "    <tr>\n",
       "      <th>3</th>\n",
       "      <td>4</td>\n",
       "      <td>Waiting to Exhale (1995)</td>\n",
       "      <td>Comedy|Drama|Romance</td>\n",
       "    </tr>\n",
       "    <tr>\n",
       "      <th>4</th>\n",
       "      <td>5</td>\n",
       "      <td>Father of the Bride Part II (1995)</td>\n",
       "      <td>Comedy</td>\n",
       "    </tr>\n",
       "  </tbody>\n",
       "</table>\n",
       "</div>"
      ],
      "text/plain": [
       "   movieId                               title  \\\n",
       "0        1                    Toy Story (1995)   \n",
       "1        2                      Jumanji (1995)   \n",
       "2        3             Grumpier Old Men (1995)   \n",
       "3        4            Waiting to Exhale (1995)   \n",
       "4        5  Father of the Bride Part II (1995)   \n",
       "\n",
       "                                        genres  \n",
       "0  Adventure|Animation|Children|Comedy|Fantasy  \n",
       "1                   Adventure|Children|Fantasy  \n",
       "2                               Comedy|Romance  \n",
       "3                         Comedy|Drama|Romance  \n",
       "4                                       Comedy  "
      ]
     },
     "execution_count": 2,
     "metadata": {},
     "output_type": "execute_result"
    }
   ],
   "source": [
    "movies = pd.read_csv('data/movies.csv')\n",
    "movies.head()"
   ]
  },
  {
   "cell_type": "code",
   "execution_count": 3,
   "id": "45f67d98",
   "metadata": {},
   "outputs": [
    {
     "name": "stdout",
     "output_type": "stream",
     "text": [
      "<class 'pandas.core.frame.DataFrame'>\n",
      "RangeIndex: 9742 entries, 0 to 9741\n",
      "Data columns (total 3 columns):\n",
      " #   Column   Non-Null Count  Dtype \n",
      "---  ------   --------------  ----- \n",
      " 0   movieId  9742 non-null   int64 \n",
      " 1   title    9742 non-null   object\n",
      " 2   genres   9742 non-null   object\n",
      "dtypes: int64(1), object(2)\n",
      "memory usage: 228.5+ KB\n"
     ]
    }
   ],
   "source": [
    "movies.info()"
   ]
  },
  {
   "cell_type": "code",
   "execution_count": 4,
   "id": "4f29901a",
   "metadata": {},
   "outputs": [
    {
     "name": "stdout",
     "output_type": "stream",
     "text": [
      "Empty DataFrame\n",
      "Columns: [movieId, title, genres]\n",
      "Index: []\n"
     ]
    }
   ],
   "source": [
    "#prints duplicate rows\n",
    "\n",
    "duplicate_rows = movies[movies.duplicated()]\n",
    "print(duplicate_rows)"
   ]
  },
  {
   "cell_type": "code",
   "execution_count": 5,
   "id": "2bd2f428",
   "metadata": {},
   "outputs": [
    {
     "name": "stdout",
     "output_type": "stream",
     "text": [
      "Empty DataFrame\n",
      "Columns: [movieId, title, genres]\n",
      "Index: []\n"
     ]
    }
   ],
   "source": [
    "# prints rows that have a duplicate movieId and title\n",
    "duplicate_rows = movies[movies.duplicated(subset=['movieId', 'title'])]\n",
    "print(duplicate_rows)"
   ]
  },
  {
   "cell_type": "code",
   "execution_count": 6,
   "id": "4e53110d",
   "metadata": {},
   "outputs": [
    {
     "name": "stdout",
     "output_type": "stream",
     "text": [
      "Drama                 4361\n",
      "Comedy                3756\n",
      "Thriller              1894\n",
      "Action                1828\n",
      "Romance               1596\n",
      "Adventure             1263\n",
      "Crime                 1199\n",
      "Sci-Fi                 980\n",
      "Horror                 978\n",
      "Fantasy                779\n",
      "Children               664\n",
      "Animation              611\n",
      "Mystery                573\n",
      "Documentary            440\n",
      "War                    382\n",
      "Musical                334\n",
      "Western                167\n",
      "IMAX                   158\n",
      "Film-Noir               87\n",
      "(no genres listed)      34\n",
      "dtype: int64\n"
     ]
    }
   ],
   "source": [
    "# Split genres into separate values, and flatten the list\n",
    "all_genres = movies['genres'].str.split('|', expand=True).stack()\n",
    "\n",
    "# Count the occurrences of each genre\n",
    "genre_counts = all_genres.value_counts()\n",
    "\n",
    "# Print the genre counts\n",
    "print(genre_counts)"
   ]
  },
  {
   "cell_type": "code",
   "execution_count": 7,
   "id": "87fb0c65",
   "metadata": {},
   "outputs": [
    {
     "data": {
      "image/png": "[encoded data removed]",
      "text/plain": [
       "<Figure size 1000x600 with 1 Axes>"
      ]
     },
     "metadata": {},
     "output_type": "display_data"
    }
   ],
   "source": [
    "# Plot bar graph of genres\n",
    "plt.figure(figsize=(10, 6))\n",
    "genre_counts.plot(kind='barh', color='blue')\n",
    "plt.title('Frequency of Movie Genres')\n",
    "plt.xlabel('Genres')\n",
    "plt.ylabel('Frequency')\n",
    "plt.show()"
   ]
  },
  {
   "cell_type": "markdown",
   "id": "d31f00b5",
   "metadata": {},
   "source": [
    "#### 2.1.2 Ratings Dataset"
   ]
  },
  {
   "cell_type": "code",
   "execution_count": 8,
   "id": "73df1e28",
   "metadata": {},
   "outputs": [
    {
     "data": {
      "text/html": [
       "<div>\n",
       "<style scoped>\n",
       "    .dataframe tbody tr th:only-of-type {\n",
       "        vertical-align: middle;\n",
       "    }\n",
       "\n",
       "    .dataframe tbody tr th {\n",
       "        vertical-align: top;\n",
       "    }\n",
       "\n",
       "    .dataframe thead th {\n",
       "        text-align: right;\n",
       "    }\n",
       "</style>\n",
       "<table border=\"1\" class=\"dataframe\">\n",
       "  <thead>\n",
       "    <tr style=\"text-align: right;\">\n",
       "      <th></th>\n",
       "      <th>userId</th>\n",
       "      <th>movieId</th>\n",
       "      <th>rating</th>\n",
       "      <th>timestamp</th>\n",
       "    </tr>\n",
       "  </thead>\n",
       "  <tbody>\n",
       "    <tr>\n",
       "      <th>0</th>\n",
       "      <td>1</td>\n",
       "      <td>1</td>\n",
       "      <td>4.0</td>\n",
       "      <td>964982703</td>\n",
       "    </tr>\n",
       "    <tr>\n",
       "      <th>1</th>\n",
       "      <td>1</td>\n",
       "      <td>3</td>\n",
       "      <td>4.0</td>\n",
       "      <td>964981247</td>\n",
       "    </tr>\n",
       "    <tr>\n",
       "      <th>2</th>\n",
       "      <td>1</td>\n",
       "      <td>6</td>\n",
       "      <td>4.0</td>\n",
       "      <td>964982224</td>\n",
       "    </tr>\n",
       "    <tr>\n",
       "      <th>3</th>\n",
       "      <td>1</td>\n",
       "      <td>47</td>\n",
       "      <td>5.0</td>\n",
       "      <td>964983815</td>\n",
       "    </tr>\n",
       "    <tr>\n",
       "      <th>4</th>\n",
       "      <td>1</td>\n",
       "      <td>50</td>\n",
       "      <td>5.0</td>\n",
       "      <td>964982931</td>\n",
       "    </tr>\n",
       "  </tbody>\n",
       "</table>\n",
       "</div>"
      ],
      "text/plain": [
       "   userId  movieId  rating  timestamp\n",
       "0       1        1     4.0  964982703\n",
       "1       1        3     4.0  964981247\n",
       "2       1        6     4.0  964982224\n",
       "3       1       47     5.0  964983815\n",
       "4       1       50     5.0  964982931"
      ]
     },
     "execution_count": 8,
     "metadata": {},
     "output_type": "execute_result"
    }
   ],
   "source": [
    "ratings = pd.read_csv('data/ratings.csv')\n",
    "ratings.head()"
   ]
  },
  {
   "cell_type": "code",
   "execution_count": 9,
   "id": "9c1ee213",
   "metadata": {},
   "outputs": [
    {
     "name": "stdout",
     "output_type": "stream",
     "text": [
      "<class 'pandas.core.frame.DataFrame'>\n",
      "RangeIndex: 100836 entries, 0 to 100835\n",
      "Data columns (total 4 columns):\n",
      " #   Column     Non-Null Count   Dtype  \n",
      "---  ------     --------------   -----  \n",
      " 0   userId     100836 non-null  int64  \n",
      " 1   movieId    100836 non-null  int64  \n",
      " 2   rating     100836 non-null  float64\n",
      " 3   timestamp  100836 non-null  int64  \n",
      "dtypes: float64(1), int64(3)\n",
      "memory usage: 3.1 MB\n"
     ]
    }
   ],
   "source": [
    "ratings.info()"
   ]
  },
  {
   "cell_type": "code",
   "execution_count": 10,
   "id": "96403951",
   "metadata": {},
   "outputs": [
    {
     "data": {
      "text/plain": [
       "414    2698\n",
       "599    2478\n",
       "474    2108\n",
       "448    1864\n",
       "274    1346\n",
       "       ... \n",
       "442      20\n",
       "569      20\n",
       "320      20\n",
       "576      20\n",
       "53       20\n",
       "Name: userId, Length: 610, dtype: int64"
      ]
     },
     "execution_count": 10,
     "metadata": {},
     "output_type": "execute_result"
    }
   ],
   "source": [
    "ratings.userId.value_counts()"
   ]
  },
  {
   "cell_type": "code",
   "execution_count": 11,
   "id": "bae67d71",
   "metadata": {},
   "outputs": [
    {
     "data": {
      "text/plain": [
       "356       329\n",
       "318       317\n",
       "296       307\n",
       "593       279\n",
       "2571      278\n",
       "         ... \n",
       "86279       1\n",
       "86922       1\n",
       "5962        1\n",
       "87660       1\n",
       "163981      1\n",
       "Name: movieId, Length: 9724, dtype: int64"
      ]
     },
     "execution_count": 11,
     "metadata": {},
     "output_type": "execute_result"
    }
   ],
   "source": [
    "ratings.movieId.value_counts()"
   ]
  },
  {
   "cell_type": "code",
   "execution_count": 12,
   "id": "e6c54b8a",
   "metadata": {},
   "outputs": [
    {
     "data": {
      "text/plain": [
       "movieId  rating\n",
       "318      5.0       153\n",
       "296      5.0       123\n",
       "356      5.0       116\n",
       "2571     5.0       109\n",
       "260      5.0       104\n",
       "                  ... \n",
       "5096     1.5         1\n",
       "         1.0         1\n",
       "5095     4.5         1\n",
       "5094     3.0         1\n",
       "193609   4.0         1\n",
       "Length: 30417, dtype: int64"
      ]
     },
     "execution_count": 12,
     "metadata": {},
     "output_type": "execute_result"
    }
   ],
   "source": [
    "ratings[['movieId', 'rating']].value_counts()"
   ]
  },
  {
   "cell_type": "code",
   "execution_count": 13,
   "id": "d1b55f97",
   "metadata": {},
   "outputs": [
    {
     "data": {
      "text/plain": [
       "movieId\n",
       "88448     5.0\n",
       "100556    5.0\n",
       "143031    5.0\n",
       "143511    5.0\n",
       "143559    5.0\n",
       "         ... \n",
       "157172    0.5\n",
       "85334     0.5\n",
       "53453     0.5\n",
       "8494      0.5\n",
       "71810     0.5\n",
       "Name: rating, Length: 9724, dtype: float64"
      ]
     },
     "execution_count": 13,
     "metadata": {},
     "output_type": "execute_result"
    }
   ],
   "source": [
    "average_rating = ratings.groupby('movieId')['rating'].mean().sort_values(ascending = False)\n",
    "average_rating"
   ]
  },
  {
   "cell_type": "code",
   "execution_count": 24,
   "id": "c09035dc",
   "metadata": {},
   "outputs": [
    {
     "data": {
      "image/png": "[encoded data removed]",
      "text/plain": [
       "<Figure size 1000x600 with 1 Axes>"
      ]
     },
     "metadata": {},
     "output_type": "display_data"
    }
   ],
   "source": [
    "# Plot horizontal bar chart of ratings\n",
    "plt.figure(figsize=(10, 6))\n",
    "ratings.rating.value_counts().sort_index().plot(kind='barh', color='blue')\n",
    "\n",
    "# Add labels and title\n",
    "plt.title('Frequency of Ratings', fontsize=16)\n",
    "plt.xlabel('Frequency', fontsize=12)\n",
    "plt.ylabel('Ratings', fontsize=12)\n",
    "\n",
    "# Show the plot\n",
    "plt.show()"
   ]
  },
  {
   "cell_type": "markdown",
   "id": "26a5a688",
   "metadata": {},
   "source": [
    "#### 2.1.3 Tags Dataset"
   ]
  },
  {
   "cell_type": "code",
   "execution_count": 14,
   "id": "fad8ab77",
   "metadata": {},
   "outputs": [
    {
     "data": {
      "text/html": [
       "<div>\n",
       "<style scoped>\n",
       "    .dataframe tbody tr th:only-of-type {\n",
       "        vertical-align: middle;\n",
       "    }\n",
       "\n",
       "    .dataframe tbody tr th {\n",
       "        vertical-align: top;\n",
       "    }\n",
       "\n",
       "    .dataframe thead th {\n",
       "        text-align: right;\n",
       "    }\n",
       "</style>\n",
       "<table border=\"1\" class=\"dataframe\">\n",
       "  <thead>\n",
       "    <tr style=\"text-align: right;\">\n",
       "      <th></th>\n",
       "      <th>userId</th>\n",
       "      <th>movieId</th>\n",
       "      <th>tag</th>\n",
       "      <th>timestamp</th>\n",
       "    </tr>\n",
       "  </thead>\n",
       "  <tbody>\n",
       "    <tr>\n",
       "      <th>0</th>\n",
       "      <td>2</td>\n",
       "      <td>60756</td>\n",
       "      <td>funny</td>\n",
       "      <td>1445714994</td>\n",
       "    </tr>\n",
       "    <tr>\n",
       "      <th>1</th>\n",
       "      <td>2</td>\n",
       "      <td>60756</td>\n",
       "      <td>Highly quotable</td>\n",
       "      <td>1445714996</td>\n",
       "    </tr>\n",
       "    <tr>\n",
       "      <th>2</th>\n",
       "      <td>2</td>\n",
       "      <td>60756</td>\n",
       "      <td>will ferrell</td>\n",
       "      <td>1445714992</td>\n",
       "    </tr>\n",
       "    <tr>\n",
       "      <th>3</th>\n",
       "      <td>2</td>\n",
       "      <td>89774</td>\n",
       "      <td>Boxing story</td>\n",
       "      <td>1445715207</td>\n",
       "    </tr>\n",
       "    <tr>\n",
       "      <th>4</th>\n",
       "      <td>2</td>\n",
       "      <td>89774</td>\n",
       "      <td>MMA</td>\n",
       "      <td>1445715200</td>\n",
       "    </tr>\n",
       "  </tbody>\n",
       "</table>\n",
       "</div>"
      ],
      "text/plain": [
       "   userId  movieId              tag   timestamp\n",
       "0       2    60756            funny  1445714994\n",
       "1       2    60756  Highly quotable  1445714996\n",
       "2       2    60756     will ferrell  1445714992\n",
       "3       2    89774     Boxing story  1445715207\n",
       "4       2    89774              MMA  1445715200"
      ]
     },
     "execution_count": 14,
     "metadata": {},
     "output_type": "execute_result"
    }
   ],
   "source": [
    "tags = pd.read_csv('data/tags.csv')\n",
    "tags.head()"
   ]
  },
  {
   "cell_type": "code",
   "execution_count": 15,
   "id": "be01dc85",
   "metadata": {},
   "outputs": [
    {
     "name": "stdout",
     "output_type": "stream",
     "text": [
      "<class 'pandas.core.frame.DataFrame'>\n",
      "RangeIndex: 3683 entries, 0 to 3682\n",
      "Data columns (total 4 columns):\n",
      " #   Column     Non-Null Count  Dtype \n",
      "---  ------     --------------  ----- \n",
      " 0   userId     3683 non-null   int64 \n",
      " 1   movieId    3683 non-null   int64 \n",
      " 2   tag        3683 non-null   object\n",
      " 3   timestamp  3683 non-null   int64 \n",
      "dtypes: int64(3), object(1)\n",
      "memory usage: 115.2+ KB\n"
     ]
    }
   ],
   "source": [
    "tags.info()"
   ]
  },
  {
   "cell_type": "code",
   "execution_count": null,
   "id": "5d2fc702",
   "metadata": {},
   "outputs": [],
   "source": []
  },
  {
   "cell_type": "code",
   "execution_count": null,
   "id": "58563787",
   "metadata": {},
   "outputs": [],
   "source": []
  },
  {
   "cell_type": "markdown",
   "id": "41f79837",
   "metadata": {},
   "source": [
    "## 3. <a name =\"Data-Preparation\"></a> Data Preparation"
   ]
  },
  {
   "cell_type": "code",
   "execution_count": 18,
   "id": "8be72f60",
   "metadata": {},
   "outputs": [
    {
     "data": {
      "text/html": [
       "<div>\n",
       "<style scoped>\n",
       "    .dataframe tbody tr th:only-of-type {\n",
       "        vertical-align: middle;\n",
       "    }\n",
       "\n",
       "    .dataframe tbody tr th {\n",
       "        vertical-align: top;\n",
       "    }\n",
       "\n",
       "    .dataframe thead th {\n",
       "        text-align: right;\n",
       "    }\n",
       "</style>\n",
       "<table border=\"1\" class=\"dataframe\">\n",
       "  <thead>\n",
       "    <tr style=\"text-align: right;\">\n",
       "      <th></th>\n",
       "      <th>userId</th>\n",
       "      <th>movieId</th>\n",
       "      <th>rating</th>\n",
       "      <th>timestamp</th>\n",
       "      <th>title</th>\n",
       "      <th>genres</th>\n",
       "    </tr>\n",
       "  </thead>\n",
       "  <tbody>\n",
       "    <tr>\n",
       "      <th>0</th>\n",
       "      <td>1</td>\n",
       "      <td>1</td>\n",
       "      <td>4.0</td>\n",
       "      <td>964982703</td>\n",
       "      <td>Toy Story (1995)</td>\n",
       "      <td>Adventure|Animation|Children|Comedy|Fantasy</td>\n",
       "    </tr>\n",
       "    <tr>\n",
       "      <th>1</th>\n",
       "      <td>5</td>\n",
       "      <td>1</td>\n",
       "      <td>4.0</td>\n",
       "      <td>847434962</td>\n",
       "      <td>Toy Story (1995)</td>\n",
       "      <td>Adventure|Animation|Children|Comedy|Fantasy</td>\n",
       "    </tr>\n",
       "    <tr>\n",
       "      <th>2</th>\n",
       "      <td>7</td>\n",
       "      <td>1</td>\n",
       "      <td>4.5</td>\n",
       "      <td>1106635946</td>\n",
       "      <td>Toy Story (1995)</td>\n",
       "      <td>Adventure|Animation|Children|Comedy|Fantasy</td>\n",
       "    </tr>\n",
       "    <tr>\n",
       "      <th>3</th>\n",
       "      <td>15</td>\n",
       "      <td>1</td>\n",
       "      <td>2.5</td>\n",
       "      <td>1510577970</td>\n",
       "      <td>Toy Story (1995)</td>\n",
       "      <td>Adventure|Animation|Children|Comedy|Fantasy</td>\n",
       "    </tr>\n",
       "    <tr>\n",
       "      <th>4</th>\n",
       "      <td>17</td>\n",
       "      <td>1</td>\n",
       "      <td>4.5</td>\n",
       "      <td>1305696483</td>\n",
       "      <td>Toy Story (1995)</td>\n",
       "      <td>Adventure|Animation|Children|Comedy|Fantasy</td>\n",
       "    </tr>\n",
       "  </tbody>\n",
       "</table>\n",
       "</div>"
      ],
      "text/plain": [
       "   userId  movieId  rating   timestamp             title  \\\n",
       "0       1        1     4.0   964982703  Toy Story (1995)   \n",
       "1       5        1     4.0   847434962  Toy Story (1995)   \n",
       "2       7        1     4.5  1106635946  Toy Story (1995)   \n",
       "3      15        1     2.5  1510577970  Toy Story (1995)   \n",
       "4      17        1     4.5  1305696483  Toy Story (1995)   \n",
       "\n",
       "                                        genres  \n",
       "0  Adventure|Animation|Children|Comedy|Fantasy  \n",
       "1  Adventure|Animation|Children|Comedy|Fantasy  \n",
       "2  Adventure|Animation|Children|Comedy|Fantasy  \n",
       "3  Adventure|Animation|Children|Comedy|Fantasy  \n",
       "4  Adventure|Animation|Children|Comedy|Fantasy  "
      ]
     },
     "execution_count": 18,
     "metadata": {},
     "output_type": "execute_result"
    }
   ],
   "source": [
    "merged_df = pd.merge(ratings, movies, on='movieId', how='inner')\n",
    "merged_df.head()"
   ]
  },
  {
   "cell_type": "code",
   "execution_count": 19,
   "id": "ff1bd1f8",
   "metadata": {},
   "outputs": [
    {
     "name": "stdout",
     "output_type": "stream",
     "text": [
      "<class 'pandas.core.frame.DataFrame'>\n",
      "Int64Index: 100836 entries, 0 to 100835\n",
      "Data columns (total 6 columns):\n",
      " #   Column     Non-Null Count   Dtype  \n",
      "---  ------     --------------   -----  \n",
      " 0   userId     100836 non-null  int64  \n",
      " 1   movieId    100836 non-null  int64  \n",
      " 2   rating     100836 non-null  float64\n",
      " 3   timestamp  100836 non-null  int64  \n",
      " 4   title      100836 non-null  object \n",
      " 5   genres     100836 non-null  object \n",
      "dtypes: float64(1), int64(3), object(2)\n",
      "memory usage: 5.4+ MB\n"
     ]
    }
   ],
   "source": [
    "merged_df.info()"
   ]
  },
  {
   "cell_type": "code",
   "execution_count": 21,
   "id": "5b492cb7",
   "metadata": {},
   "outputs": [
    {
     "name": "stdout",
     "output_type": "stream",
     "text": [
      "Empty DataFrame\n",
      "Columns: [userId, movieId, rating, timestamp, title, genres]\n",
      "Index: []\n"
     ]
    }
   ],
   "source": [
    "# Check for duplicates based on all columns\n",
    "duplicate_rows = merged_df[merged_df.duplicated()]\n",
    "print(duplicate_rows)"
   ]
  },
  {
   "cell_type": "code",
   "execution_count": 22,
   "id": "2e8c173d",
   "metadata": {},
   "outputs": [
    {
     "data": {
      "text/html": [
       "<div>\n",
       "<style scoped>\n",
       "    .dataframe tbody tr th:only-of-type {\n",
       "        vertical-align: middle;\n",
       "    }\n",
       "\n",
       "    .dataframe tbody tr th {\n",
       "        vertical-align: top;\n",
       "    }\n",
       "\n",
       "    .dataframe thead th {\n",
       "        text-align: right;\n",
       "    }\n",
       "</style>\n",
       "<table border=\"1\" class=\"dataframe\">\n",
       "  <thead>\n",
       "    <tr style=\"text-align: right;\">\n",
       "      <th></th>\n",
       "      <th>userId</th>\n",
       "      <th>movieId</th>\n",
       "      <th>rating</th>\n",
       "      <th>title</th>\n",
       "      <th>genres</th>\n",
       "    </tr>\n",
       "  </thead>\n",
       "  <tbody>\n",
       "    <tr>\n",
       "      <th>0</th>\n",
       "      <td>1</td>\n",
       "      <td>1</td>\n",
       "      <td>4.0</td>\n",
       "      <td>Toy Story (1995)</td>\n",
       "      <td>Adventure|Animation|Children|Comedy|Fantasy</td>\n",
       "    </tr>\n",
       "    <tr>\n",
       "      <th>1</th>\n",
       "      <td>5</td>\n",
       "      <td>1</td>\n",
       "      <td>4.0</td>\n",
       "      <td>Toy Story (1995)</td>\n",
       "      <td>Adventure|Animation|Children|Comedy|Fantasy</td>\n",
       "    </tr>\n",
       "    <tr>\n",
       "      <th>2</th>\n",
       "      <td>7</td>\n",
       "      <td>1</td>\n",
       "      <td>4.5</td>\n",
       "      <td>Toy Story (1995)</td>\n",
       "      <td>Adventure|Animation|Children|Comedy|Fantasy</td>\n",
       "    </tr>\n",
       "    <tr>\n",
       "      <th>3</th>\n",
       "      <td>15</td>\n",
       "      <td>1</td>\n",
       "      <td>2.5</td>\n",
       "      <td>Toy Story (1995)</td>\n",
       "      <td>Adventure|Animation|Children|Comedy|Fantasy</td>\n",
       "    </tr>\n",
       "    <tr>\n",
       "      <th>4</th>\n",
       "      <td>17</td>\n",
       "      <td>1</td>\n",
       "      <td>4.5</td>\n",
       "      <td>Toy Story (1995)</td>\n",
       "      <td>Adventure|Animation|Children|Comedy|Fantasy</td>\n",
       "    </tr>\n",
       "    <tr>\n",
       "      <th>...</th>\n",
       "      <td>...</td>\n",
       "      <td>...</td>\n",
       "      <td>...</td>\n",
       "      <td>...</td>\n",
       "      <td>...</td>\n",
       "    </tr>\n",
       "    <tr>\n",
       "      <th>100831</th>\n",
       "      <td>610</td>\n",
       "      <td>160341</td>\n",
       "      <td>2.5</td>\n",
       "      <td>Bloodmoon (1997)</td>\n",
       "      <td>Action|Thriller</td>\n",
       "    </tr>\n",
       "    <tr>\n",
       "      <th>100832</th>\n",
       "      <td>610</td>\n",
       "      <td>160527</td>\n",
       "      <td>4.5</td>\n",
       "      <td>Sympathy for the Underdog (1971)</td>\n",
       "      <td>Action|Crime|Drama</td>\n",
       "    </tr>\n",
       "    <tr>\n",
       "      <th>100833</th>\n",
       "      <td>610</td>\n",
       "      <td>160836</td>\n",
       "      <td>3.0</td>\n",
       "      <td>Hazard (2005)</td>\n",
       "      <td>Action|Drama|Thriller</td>\n",
       "    </tr>\n",
       "    <tr>\n",
       "      <th>100834</th>\n",
       "      <td>610</td>\n",
       "      <td>163937</td>\n",
       "      <td>3.5</td>\n",
       "      <td>Blair Witch (2016)</td>\n",
       "      <td>Horror|Thriller</td>\n",
       "    </tr>\n",
       "    <tr>\n",
       "      <th>100835</th>\n",
       "      <td>610</td>\n",
       "      <td>163981</td>\n",
       "      <td>3.5</td>\n",
       "      <td>31 (2016)</td>\n",
       "      <td>Horror</td>\n",
       "    </tr>\n",
       "  </tbody>\n",
       "</table>\n",
       "<p>100836 rows × 5 columns</p>\n",
       "</div>"
      ],
      "text/plain": [
       "        userId  movieId  rating                             title  \\\n",
       "0            1        1     4.0                  Toy Story (1995)   \n",
       "1            5        1     4.0                  Toy Story (1995)   \n",
       "2            7        1     4.5                  Toy Story (1995)   \n",
       "3           15        1     2.5                  Toy Story (1995)   \n",
       "4           17        1     4.5                  Toy Story (1995)   \n",
       "...        ...      ...     ...                               ...   \n",
       "100831     610   160341     2.5                  Bloodmoon (1997)   \n",
       "100832     610   160527     4.5  Sympathy for the Underdog (1971)   \n",
       "100833     610   160836     3.0                     Hazard (2005)   \n",
       "100834     610   163937     3.5                Blair Witch (2016)   \n",
       "100835     610   163981     3.5                         31 (2016)   \n",
       "\n",
       "                                             genres  \n",
       "0       Adventure|Animation|Children|Comedy|Fantasy  \n",
       "1       Adventure|Animation|Children|Comedy|Fantasy  \n",
       "2       Adventure|Animation|Children|Comedy|Fantasy  \n",
       "3       Adventure|Animation|Children|Comedy|Fantasy  \n",
       "4       Adventure|Animation|Children|Comedy|Fantasy  \n",
       "...                                             ...  \n",
       "100831                              Action|Thriller  \n",
       "100832                           Action|Crime|Drama  \n",
       "100833                        Action|Drama|Thriller  \n",
       "100834                              Horror|Thriller  \n",
       "100835                                       Horror  \n",
       "\n",
       "[100836 rows x 5 columns]"
      ]
     },
     "execution_count": 22,
     "metadata": {},
     "output_type": "execute_result"
    }
   ],
   "source": [
    "merged_df.drop(columns = 'timestamp', axis = 1, inplace = True)\n",
    "merged_df"
   ]
  },
  {
   "cell_type": "code",
   "execution_count": 27,
   "id": "2248ca51",
   "metadata": {},
   "outputs": [],
   "source": [
    "# Creates the utility matrix\n",
    "utility_matrix = ratings.pivot_table(index='userId', columns='movieId', values='rating')\n",
    "\n",
    "# Fills NaN values with 0 \n",
    "utility_matrix.fillna(0, inplace=True)"
   ]
  },
  {
   "cell_type": "code",
   "execution_count": 29,
   "id": "d42c8188",
   "metadata": {},
   "outputs": [
    {
     "name": "stdout",
     "output_type": "stream",
     "text": [
      "movieId  1       2       3       4       5       6       7       8       \\\n",
      "userId                                                                    \n",
      "1           4.0     0.0     4.0     0.0     0.0     4.0     0.0     0.0   \n",
      "2           0.0     0.0     0.0     0.0     0.0     0.0     0.0     0.0   \n",
      "3           0.0     0.0     0.0     0.0     0.0     0.0     0.0     0.0   \n",
      "4           0.0     0.0     0.0     0.0     0.0     0.0     0.0     0.0   \n",
      "5           4.0     0.0     0.0     0.0     0.0     0.0     0.0     0.0   \n",
      "...         ...     ...     ...     ...     ...     ...     ...     ...   \n",
      "606         2.5     0.0     0.0     0.0     0.0     0.0     2.5     0.0   \n",
      "607         4.0     0.0     0.0     0.0     0.0     0.0     0.0     0.0   \n",
      "608         2.5     2.0     2.0     0.0     0.0     0.0     0.0     0.0   \n",
      "609         3.0     0.0     0.0     0.0     0.0     0.0     0.0     0.0   \n",
      "610         5.0     0.0     0.0     0.0     0.0     5.0     0.0     0.0   \n",
      "\n",
      "movieId  9       10      ...  193565  193567  193571  193573  193579  193581  \\\n",
      "userId                   ...                                                   \n",
      "1           0.0     0.0  ...     0.0     0.0     0.0     0.0     0.0     0.0   \n",
      "2           0.0     0.0  ...     0.0     0.0     0.0     0.0     0.0     0.0   \n",
      "3           0.0     0.0  ...     0.0     0.0     0.0     0.0     0.0     0.0   \n",
      "4           0.0     0.0  ...     0.0     0.0     0.0     0.0     0.0     0.0   \n",
      "5           0.0     0.0  ...     0.0     0.0     0.0     0.0     0.0     0.0   \n",
      "...         ...     ...  ...     ...     ...     ...     ...     ...     ...   \n",
      "606         0.0     0.0  ...     0.0     0.0     0.0     0.0     0.0     0.0   \n",
      "607         0.0     0.0  ...     0.0     0.0     0.0     0.0     0.0     0.0   \n",
      "608         0.0     4.0  ...     0.0     0.0     0.0     0.0     0.0     0.0   \n",
      "609         0.0     4.0  ...     0.0     0.0     0.0     0.0     0.0     0.0   \n",
      "610         0.0     0.0  ...     0.0     0.0     0.0     0.0     0.0     0.0   \n",
      "\n",
      "movieId  193583  193585  193587  193609  \n",
      "userId                                   \n",
      "1           0.0     0.0     0.0     0.0  \n",
      "2           0.0     0.0     0.0     0.0  \n",
      "3           0.0     0.0     0.0     0.0  \n",
      "4           0.0     0.0     0.0     0.0  \n",
      "5           0.0     0.0     0.0     0.0  \n",
      "...         ...     ...     ...     ...  \n",
      "606         0.0     0.0     0.0     0.0  \n",
      "607         0.0     0.0     0.0     0.0  \n",
      "608         0.0     0.0     0.0     0.0  \n",
      "609         0.0     0.0     0.0     0.0  \n",
      "610         0.0     0.0     0.0     0.0  \n",
      "\n",
      "[610 rows x 9724 columns]\n"
     ]
    }
   ],
   "source": [
    "# Display the updated utility matrix\n",
    "print(utility_matrix)"
   ]
  },
  {
   "cell_type": "markdown",
   "id": "330cfadb",
   "metadata": {},
   "source": [
    "## 4. <a name =\"Exploratory-Data-Analysis\"></a>Exploratory Data Analysis"
   ]
  },
  {
   "cell_type": "markdown",
   "id": "b124d071",
   "metadata": {},
   "source": [
    "## 5. <a name =\"Modeling\"></a>  Modeling"
   ]
  },
  {
   "cell_type": "markdown",
   "id": "f8b902c0",
   "metadata": {},
   "source": [
    "## 6. <a name =\"Final-Model-Evaluation\"></a> Evaluation"
   ]
  },
  {
   "cell_type": "markdown",
   "id": "76ed7a09",
   "metadata": {},
   "source": [
    "## 7. <a name =\"Conclusions\"></a> Conclusions"
   ]
  },
  {
   "cell_type": "markdown",
   "id": "5edbc18a",
   "metadata": {},
   "source": [
    "### 7.1 <a name =\"Limitations\"></a> Limitations"
   ]
  },
  {
   "cell_type": "markdown",
   "id": "74d03e76",
   "metadata": {},
   "source": [
    "### 7.2 <a name =\"Recommendations\"></a> Recommendations"
   ]
  },
  {
   "cell_type": "markdown",
   "id": "46534508",
   "metadata": {},
   "source": [
    "### 7.3 <a name =\"Next-Steps\"></a> Next Steps"
   ]
  },
  {
   "cell_type": "markdown",
   "id": "c4e52474",
   "metadata": {},
   "source": []
  },
  {
   "cell_type": "markdown",
   "id": "e40d393e",
   "metadata": {},
   "source": []
  },
  {
   "cell_type": "markdown",
   "id": "0932d303",
   "metadata": {},
   "source": []
  },
  {
   "cell_type": "markdown",
   "id": "7c2f7705",
   "metadata": {},
   "source": []
  },
  {
   "cell_type": "markdown",
   "id": "1cb0878e",
   "metadata": {},
   "source": []
  },
  {
   "cell_type": "markdown",
   "id": "f99dc9c1",
   "metadata": {},
   "source": []
  },
  {
   "cell_type": "markdown",
   "id": "1343abdf",
   "metadata": {},
   "source": []
  },
  {
   "cell_type": "markdown",
   "id": "b775611e",
   "metadata": {},
   "source": []
  },
  {
   "cell_type": "markdown",
   "id": "dc26c7d2",
   "metadata": {},
   "source": []
  },
  {
   "cell_type": "markdown",
   "id": "fc47bd19",
   "metadata": {},
   "source": []
  }
 ],
 "metadata": {
  "kernelspec": {
   "display_name": "Python (learn-env)",
   "language": "python",
   "name": "learn-env"
  },
  "language_info": {
   "codemirror_mode": {
    "name": "ipython",
    "version": 3
   },
   "file_extension": ".py",
   "mimetype": "text/x-python",
   "name": "python",
   "nbconvert_exporter": "python",
   "pygments_lexer": "ipython3",
   "version": "3.8.5"
  }
 },
 "nbformat": 4,
 "nbformat_minor": 5
}

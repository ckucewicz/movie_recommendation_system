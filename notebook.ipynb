{
 "cells": [
  {
   "cell_type": "markdown",
   "id": "48536e47",
   "metadata": {},
   "source": [
    "# Movie Recommendation Project"
   ]
  },
  {
   "cell_type": "markdown",
   "id": "3478d49e",
   "metadata": {},
   "source": [
    "## Table of Contents\n",
    "\n",
    "### 1. [Business Understanding](#Business-Understanding)\n",
    "* 1.1 [Background](#Background)\n",
    "* 1.2 [Business Goals](#Business-Goals)\n",
    "* 1.3 [Business Success Criteria](#Business-Success-Criteria)\n",
    "   \n",
    "### 2. [Data Understanding](#Data-Understanding)\n",
    "* 2.1 [Importing Packages and Reading in Data](#Importing-Packages-and-Reading-in-Data)\n",
    "* 2.2 [Previewing the Data](#Previewing-the-Data)\n",
    "* 2.3 [Numeric Feature Investigation](#Numeric-Feature-Investigation)\n",
    "  * 2.3.1 [Summary Statistics](#Summary-Statistics)\n",
    "  * 2.3.2 [Distribution Visualizations](#Distribution-Visualizations)\n",
    "* 2.4 [Inspecting Null Values](#Inspecting-Null-Values) \n",
    "* 2.5 [Investigating Cardinality and Feature Contents](#Investigating-Cardinality-and-Feature-Contents)\n",
    "* 2.6 [Inspecting Class Distribution](#Inspecting-Class-Distribution)\n",
    "  * 2.6.1 [Mapping Well Status](#Mapping-Well-Status)\n",
    "* 2.7 [Initial Data Observations](#Initial-Data-Observations)\n",
    "\n",
    "### 3. [Data Preparation](#Data-Preparation)\n",
    "\n",
    "### 4. [Exploratory Data Analysis](#Exploratory-Data-Analysis)\n",
    "\n",
    "\n",
    "### 5. [Modeling](#Modeling)\n",
    "* 5.1 [Train-Test-Split](#Train-Test-Split)\n",
    "  * 5.1.1 [Evaluation Metrics Function](#Evaluation-Metrics-Function)\n",
    "* 5.2 [Baseline Logistic Regression Model](#Baseline-Logistic-Regression-Model)\n",
    "  * 5.2.1 [Preprocessing Categorial Features with `OneHotEncoder()`](#Preprocessing-Categorial-Features-with-`OneHotEncoder()`)\n",
    "  * 5.2.2 [Preprocessing Numeric Features with `MinMaxScaler()`](#Preprocessing-Numeric-Features-with-`MinMaxScaler()`)\n",
    "  * 5.2.3 [Training and Fitting Baseline Model](#Training-and-Fitting-Baseline-Model)\n",
    "  * 5.2.4 [Evaluating Baseline Model](#Evaluating-Baseline-Model)\n",
    "* 5.3 [Training Additional Models](#Training-Additional-Models)\n",
    "  * 5.3.2 [Creating Pipelines for Additional Models](#Creating-Pipelines-for-Additional-Models)\n",
    "  * 5.3.3 [Training and Evaluating New Models](#Training-and-Evaluating-New-Models)\n",
    "* 5.4 [Decision Tree Feature Selection and Hyperparameter Tuning](#Decision-Tree-Feature-Selection-and-Hyperparameter-Tuning)\n",
    "  * 5.4.1 [Feature Selection with `feature_importances_`](#Feature-Selection-with-`feature_importances_`)\n",
    "  * 5.4.2 [Feature Selection with RFE](#Feature-Selection-with-RFE)\n",
    "  * 5.4.3 [Hyperparameter Tuning](#hyperparameter-tuning)\n",
    "* 5.5 [Random Forest Feature Selection and Hyperparameter Tuning](#Random-Forest-Feature-Selection-and-Hyperparameter-Tuning)\n",
    "  * 5.5.1 [Feature Selection with RFE](#Feature-Selection-with-RFE)\n",
    "  * 5.5.2 [Hyperparameter Tuning](#Hyperparameter-Tuning)\n",
    "\n",
    "### 6. [Evaluation](#Final-Model-Evaluation)\n",
    "\n",
    "\n",
    "### 7. [Conclusions](#Conclusions)\n",
    "* 7.1 [Limitations](#Limitations)\n",
    "* 7.2 [Recommendations](#Recommendations)\n",
    "* 7.3 [Next Steps](#Next-Steps)\n",
    "\n",
    "### 8. [Resources](#Resources)"
   ]
  },
  {
   "cell_type": "markdown",
   "id": "2cc72820",
   "metadata": {},
   "source": [
    "## 1. <a name =\"Business-Understanding\"></a> Business Understanding"
   ]
  },
  {
   "cell_type": "markdown",
   "id": "2a4d1b91",
   "metadata": {},
   "source": [
    "### 1.1 <a name =\"Background\"></a> Background "
   ]
  },
  {
   "cell_type": "markdown",
   "id": "7b6863e4",
   "metadata": {},
   "source": [
    "The Kanopy app is a movie streaming service widely used by public libraries and universities, offering a vast library of films, documentaries, educational content, and more. While it has a dedicated user base, Kanopy faces challenges in competing with larger, more popular streaming platforms like Netflix and Hulu. A key factor contributing to this challenge is the absence of personalized features, such as movie recommendations. By enhancing the app with a recommendation system, Kanopy can deliver tailored content to users, helping them discover new movies, improve user engagement, and increase user retention. The implementation of a recommendation system is essential to keeping users satisfied and competing with other platforms in the crowded streaming market."
   ]
  },
  {
   "cell_type": "markdown",
   "id": "5a69c090",
   "metadata": {},
   "source": [
    "### 1.2 <a name =\"Business-Goals\"></a> Business Goals"
   ]
  },
  {
   "cell_type": "markdown",
   "id": "4338ae51",
   "metadata": {},
   "source": [
    "The primary goal of this project is to develop and implement a personalized movie recommendation system for the Kanopy app. The recommendation system will provide users with top 5 movie recommendations based on past ratings and viewing history."
   ]
  },
  {
   "cell_type": "markdown",
   "id": "405950de",
   "metadata": {},
   "source": [
    "### 1.3 <a name =\"Business-Success-Criteria\"></a> Business Success Criteria"
   ]
  },
  {
   "cell_type": "markdown",
   "id": "107f6057",
   "metadata": {},
   "source": []
  },
  {
   "cell_type": "markdown",
   "id": "4078878a",
   "metadata": {},
   "source": [
    "## 2. <a name =\"Data-Understanding\"></a> Data Understanding"
   ]
  },
  {
   "cell_type": "markdown",
   "id": "744a62a0",
   "metadata": {},
   "source": [
    "### 2.1 <a name =\"Importing-Packages-and-Reading-in-Data\"></a> Importing Packages and Reading in Data"
   ]
  },
  {
   "cell_type": "code",
   "execution_count": 1,
   "id": "6fcf399a",
   "metadata": {},
   "outputs": [],
   "source": [
    "# importing necessary packages\n",
    "import pandas as pd\n",
    "import numpy as np\n",
    "import matplotlib.pyplot as plt\n",
    "import seaborn as sns\n",
    "%matplotlib inline "
   ]
  },
  {
   "cell_type": "markdown",
   "id": "11f3cc0a",
   "metadata": {},
   "source": [
    "#### 2.1.1 Movies Dataset"
   ]
  },
  {
   "cell_type": "code",
   "execution_count": 2,
   "id": "f71f59e8",
   "metadata": {},
   "outputs": [
    {
     "data": {
      "text/html": [
       "<div>\n",
       "<style scoped>\n",
       "    .dataframe tbody tr th:only-of-type {\n",
       "        vertical-align: middle;\n",
       "    }\n",
       "\n",
       "    .dataframe tbody tr th {\n",
       "        vertical-align: top;\n",
       "    }\n",
       "\n",
       "    .dataframe thead th {\n",
       "        text-align: right;\n",
       "    }\n",
       "</style>\n",
       "<table border=\"1\" class=\"dataframe\">\n",
       "  <thead>\n",
       "    <tr style=\"text-align: right;\">\n",
       "      <th></th>\n",
       "      <th>movieId</th>\n",
       "      <th>title</th>\n",
       "      <th>genres</th>\n",
       "    </tr>\n",
       "  </thead>\n",
       "  <tbody>\n",
       "    <tr>\n",
       "      <th>0</th>\n",
       "      <td>1</td>\n",
       "      <td>Toy Story (1995)</td>\n",
       "      <td>Adventure|Animation|Children|Comedy|Fantasy</td>\n",
       "    </tr>\n",
       "    <tr>\n",
       "      <th>1</th>\n",
       "      <td>2</td>\n",
       "      <td>Jumanji (1995)</td>\n",
       "      <td>Adventure|Children|Fantasy</td>\n",
       "    </tr>\n",
       "    <tr>\n",
       "      <th>2</th>\n",
       "      <td>3</td>\n",
       "      <td>Grumpier Old Men (1995)</td>\n",
       "      <td>Comedy|Romance</td>\n",
       "    </tr>\n",
       "    <tr>\n",
       "      <th>3</th>\n",
       "      <td>4</td>\n",
       "      <td>Waiting to Exhale (1995)</td>\n",
       "      <td>Comedy|Drama|Romance</td>\n",
       "    </tr>\n",
       "    <tr>\n",
       "      <th>4</th>\n",
       "      <td>5</td>\n",
       "      <td>Father of the Bride Part II (1995)</td>\n",
       "      <td>Comedy</td>\n",
       "    </tr>\n",
       "  </tbody>\n",
       "</table>\n",
       "</div>"
      ],
      "text/plain": [
       "   movieId                               title  \\\n",
       "0        1                    Toy Story (1995)   \n",
       "1        2                      Jumanji (1995)   \n",
       "2        3             Grumpier Old Men (1995)   \n",
       "3        4            Waiting to Exhale (1995)   \n",
       "4        5  Father of the Bride Part II (1995)   \n",
       "\n",
       "                                        genres  \n",
       "0  Adventure|Animation|Children|Comedy|Fantasy  \n",
       "1                   Adventure|Children|Fantasy  \n",
       "2                               Comedy|Romance  \n",
       "3                         Comedy|Drama|Romance  \n",
       "4                                       Comedy  "
      ]
     },
     "execution_count": 2,
     "metadata": {},
     "output_type": "execute_result"
    }
   ],
   "source": [
    "movies = pd.read_csv('data/movies.csv')\n",
    "movies.head()"
   ]
  },
  {
   "cell_type": "code",
   "execution_count": 6,
   "id": "50abaf14",
   "metadata": {},
   "outputs": [
    {
     "name": "stdout",
     "output_type": "stream",
     "text": [
      "<class 'pandas.core.frame.DataFrame'>\n",
      "RangeIndex: 9742 entries, 0 to 9741\n",
      "Data columns (total 3 columns):\n",
      " #   Column   Non-Null Count  Dtype \n",
      "---  ------   --------------  ----- \n",
      " 0   movieId  9742 non-null   int64 \n",
      " 1   title    9742 non-null   object\n",
      " 2   genres   9742 non-null   object\n",
      "dtypes: int64(1), object(2)\n",
      "memory usage: 228.5+ KB\n"
     ]
    }
   ],
   "source": [
    "movies.info()"
   ]
  },
  {
   "cell_type": "code",
   "execution_count": 11,
   "id": "aefa4f7d",
   "metadata": {},
   "outputs": [
    {
     "name": "stdout",
     "output_type": "stream",
     "text": [
      "Empty DataFrame\n",
      "Columns: [movieId, title, genres]\n",
      "Index: []\n"
     ]
    }
   ],
   "source": [
    "#prints duplicate rows\n",
    "\n",
    "duplicate_rows = movies[movies.duplicated()]\n",
    "print(duplicate_rows)"
   ]
  },
  {
   "cell_type": "code",
   "execution_count": 12,
   "id": "8b7122d7",
   "metadata": {},
   "outputs": [
    {
     "name": "stdout",
     "output_type": "stream",
     "text": [
      "Empty DataFrame\n",
      "Columns: [movieId, title, genres]\n",
      "Index: []\n"
     ]
    }
   ],
   "source": [
    "# prints rows that have a duplicate movieId and title\n",
    "duplicate_rows = movies[movies.duplicated(subset=['movieId', 'title'])]\n",
    "print(duplicate_rows)"
   ]
  },
  {
   "cell_type": "code",
   "execution_count": 14,
   "id": "6f8ae5c4",
   "metadata": {},
   "outputs": [
    {
     "name": "stdout",
     "output_type": "stream",
     "text": [
      "Drama                 4361\n",
      "Comedy                3756\n",
      "Thriller              1894\n",
      "Action                1828\n",
      "Romance               1596\n",
      "Adventure             1263\n",
      "Crime                 1199\n",
      "Sci-Fi                 980\n",
      "Horror                 978\n",
      "Fantasy                779\n",
      "Children               664\n",
      "Animation              611\n",
      "Mystery                573\n",
      "Documentary            440\n",
      "War                    382\n",
      "Musical                334\n",
      "Western                167\n",
      "IMAX                   158\n",
      "Film-Noir               87\n",
      "(no genres listed)      34\n",
      "dtype: int64\n"
     ]
    }
   ],
   "source": [
    "# Split genres into separate values, and flatten the list\n",
    "all_genres = movies['genres'].str.split('|', expand=True).stack()\n",
    "\n",
    "# Count the occurrences of each genre\n",
    "genre_counts = all_genres.value_counts()\n",
    "\n",
    "# Print the genre counts\n",
    "print(genre_counts)"
   ]
  },
  {
   "cell_type": "code",
   "execution_count": 22,
   "id": "365920c2",
   "metadata": {},
   "outputs": [
    {
     "data": {
      "image/png": "[encoded data removed]",
      "text/plain": [
       "<Figure size 1000x600 with 1 Axes>"
      ]
     },
     "metadata": {},
     "output_type": "display_data"
    }
   ],
   "source": [
    "# Plot bar graph of genres\n",
    "plt.figure(figsize=(10, 6))\n",
    "genre_counts.plot(kind='barh', color='blue')\n",
    "plt.title('Frequency of Movie Genres')\n",
    "plt.xlabel('Genres')\n",
    "plt.ylabel('Frequency')\n",
    "plt.show()"
   ]
  },
  {
   "cell_type": "markdown",
   "id": "82eec951",
   "metadata": {},
   "source": [
    "#### 2.1.2 Ratings Dataset"
   ]
  },
  {
   "cell_type": "code",
   "execution_count": 4,
   "id": "767de9e3",
   "metadata": {},
   "outputs": [
    {
     "data": {
      "text/html": [
       "<div>\n",
       "<style scoped>\n",
       "    .dataframe tbody tr th:only-of-type {\n",
       "        vertical-align: middle;\n",
       "    }\n",
       "\n",
       "    .dataframe tbody tr th {\n",
       "        vertical-align: top;\n",
       "    }\n",
       "\n",
       "    .dataframe thead th {\n",
       "        text-align: right;\n",
       "    }\n",
       "</style>\n",
       "<table border=\"1\" class=\"dataframe\">\n",
       "  <thead>\n",
       "    <tr style=\"text-align: right;\">\n",
       "      <th></th>\n",
       "      <th>userId</th>\n",
       "      <th>movieId</th>\n",
       "      <th>rating</th>\n",
       "      <th>timestamp</th>\n",
       "    </tr>\n",
       "  </thead>\n",
       "  <tbody>\n",
       "    <tr>\n",
       "      <th>0</th>\n",
       "      <td>1</td>\n",
       "      <td>1</td>\n",
       "      <td>4.0</td>\n",
       "      <td>964982703</td>\n",
       "    </tr>\n",
       "    <tr>\n",
       "      <th>1</th>\n",
       "      <td>1</td>\n",
       "      <td>3</td>\n",
       "      <td>4.0</td>\n",
       "      <td>964981247</td>\n",
       "    </tr>\n",
       "    <tr>\n",
       "      <th>2</th>\n",
       "      <td>1</td>\n",
       "      <td>6</td>\n",
       "      <td>4.0</td>\n",
       "      <td>964982224</td>\n",
       "    </tr>\n",
       "    <tr>\n",
       "      <th>3</th>\n",
       "      <td>1</td>\n",
       "      <td>47</td>\n",
       "      <td>5.0</td>\n",
       "      <td>964983815</td>\n",
       "    </tr>\n",
       "    <tr>\n",
       "      <th>4</th>\n",
       "      <td>1</td>\n",
       "      <td>50</td>\n",
       "      <td>5.0</td>\n",
       "      <td>964982931</td>\n",
       "    </tr>\n",
       "  </tbody>\n",
       "</table>\n",
       "</div>"
      ],
      "text/plain": [
       "   userId  movieId  rating  timestamp\n",
       "0       1        1     4.0  964982703\n",
       "1       1        3     4.0  964981247\n",
       "2       1        6     4.0  964982224\n",
       "3       1       47     5.0  964983815\n",
       "4       1       50     5.0  964982931"
      ]
     },
     "execution_count": 4,
     "metadata": {},
     "output_type": "execute_result"
    }
   ],
   "source": [
    "ratings = pd.read_csv('data/ratings.csv')\n",
    "ratings.head()"
   ]
  },
  {
   "cell_type": "code",
   "execution_count": 8,
   "id": "549dacb1",
   "metadata": {},
   "outputs": [
    {
     "name": "stdout",
     "output_type": "stream",
     "text": [
      "<class 'pandas.core.frame.DataFrame'>\n",
      "RangeIndex: 100836 entries, 0 to 100835\n",
      "Data columns (total 4 columns):\n",
      " #   Column     Non-Null Count   Dtype  \n",
      "---  ------     --------------   -----  \n",
      " 0   userId     100836 non-null  int64  \n",
      " 1   movieId    100836 non-null  int64  \n",
      " 2   rating     100836 non-null  float64\n",
      " 3   timestamp  100836 non-null  int64  \n",
      "dtypes: float64(1), int64(3)\n",
      "memory usage: 3.1 MB\n"
     ]
    }
   ],
   "source": [
    "ratings.info()"
   ]
  },
  {
   "cell_type": "code",
   "execution_count": 23,
   "id": "3f5468ae",
   "metadata": {},
   "outputs": [
    {
     "data": {
      "text/plain": [
       "414    2698\n",
       "599    2478\n",
       "474    2108\n",
       "448    1864\n",
       "274    1346\n",
       "       ... \n",
       "442      20\n",
       "569      20\n",
       "320      20\n",
       "576      20\n",
       "53       20\n",
       "Name: userId, Length: 610, dtype: int64"
      ]
     },
     "execution_count": 23,
     "metadata": {},
     "output_type": "execute_result"
    }
   ],
   "source": [
    "ratings.userId.value_counts()"
   ]
  },
  {
   "cell_type": "code",
   "execution_count": 24,
   "id": "b9ecb3b1",
   "metadata": {},
   "outputs": [
    {
     "data": {
      "text/plain": [
       "356       329\n",
       "318       317\n",
       "296       307\n",
       "593       279\n",
       "2571      278\n",
       "         ... \n",
       "86279       1\n",
       "86922       1\n",
       "5962        1\n",
       "87660       1\n",
       "163981      1\n",
       "Name: movieId, Length: 9724, dtype: int64"
      ]
     },
     "execution_count": 24,
     "metadata": {},
     "output_type": "execute_result"
    }
   ],
   "source": [
    "ratings.movieId.value_counts()"
   ]
  },
  {
   "cell_type": "code",
   "execution_count": 25,
   "id": "1cb6b9f1",
   "metadata": {},
   "outputs": [
    {
     "data": {
      "text/plain": [
       "movieId  rating\n",
       "318      5.0       153\n",
       "296      5.0       123\n",
       "356      5.0       116\n",
       "2571     5.0       109\n",
       "260      5.0       104\n",
       "                  ... \n",
       "5096     1.5         1\n",
       "         1.0         1\n",
       "5095     4.5         1\n",
       "5094     3.0         1\n",
       "193609   4.0         1\n",
       "Length: 30417, dtype: int64"
      ]
     },
     "execution_count": 25,
     "metadata": {},
     "output_type": "execute_result"
    }
   ],
   "source": [
    "ratings[['movieId', 'rating']].value_counts()"
   ]
  },
  {
   "cell_type": "code",
   "execution_count": 38,
   "id": "5d649ea5",
   "metadata": {},
   "outputs": [
    {
     "data": {
      "text/plain": [
       "movieId\n",
       "88448     5.0\n",
       "100556    5.0\n",
       "143031    5.0\n",
       "143511    5.0\n",
       "143559    5.0\n",
       "         ... \n",
       "157172    0.5\n",
       "85334     0.5\n",
       "53453     0.5\n",
       "8494      0.5\n",
       "71810     0.5\n",
       "Name: rating, Length: 9724, dtype: float64"
      ]
     },
     "execution_count": 38,
     "metadata": {},
     "output_type": "execute_result"
    }
   ],
   "source": [
    "average_rating = ratings.groupby('movieId')['rating'].mean().sort_values(ascending = False)\n",
    "average_rating"
   ]
  },
  {
   "cell_type": "markdown",
   "id": "0763163a",
   "metadata": {},
   "source": [
    "#### 2.1.3 Tags Dataset"
   ]
  },
  {
   "cell_type": "code",
   "execution_count": 5,
   "id": "70d9c828",
   "metadata": {},
   "outputs": [
    {
     "data": {
      "text/html": [
       "<div>\n",
       "<style scoped>\n",
       "    .dataframe tbody tr th:only-of-type {\n",
       "        vertical-align: middle;\n",
       "    }\n",
       "\n",
       "    .dataframe tbody tr th {\n",
       "        vertical-align: top;\n",
       "    }\n",
       "\n",
       "    .dataframe thead th {\n",
       "        text-align: right;\n",
       "    }\n",
       "</style>\n",
       "<table border=\"1\" class=\"dataframe\">\n",
       "  <thead>\n",
       "    <tr style=\"text-align: right;\">\n",
       "      <th></th>\n",
       "      <th>userId</th>\n",
       "      <th>movieId</th>\n",
       "      <th>tag</th>\n",
       "      <th>timestamp</th>\n",
       "    </tr>\n",
       "  </thead>\n",
       "  <tbody>\n",
       "    <tr>\n",
       "      <th>0</th>\n",
       "      <td>2</td>\n",
       "      <td>60756</td>\n",
       "      <td>funny</td>\n",
       "      <td>1445714994</td>\n",
       "    </tr>\n",
       "    <tr>\n",
       "      <th>1</th>\n",
       "      <td>2</td>\n",
       "      <td>60756</td>\n",
       "      <td>Highly quotable</td>\n",
       "      <td>1445714996</td>\n",
       "    </tr>\n",
       "    <tr>\n",
       "      <th>2</th>\n",
       "      <td>2</td>\n",
       "      <td>60756</td>\n",
       "      <td>will ferrell</td>\n",
       "      <td>1445714992</td>\n",
       "    </tr>\n",
       "    <tr>\n",
       "      <th>3</th>\n",
       "      <td>2</td>\n",
       "      <td>89774</td>\n",
       "      <td>Boxing story</td>\n",
       "      <td>1445715207</td>\n",
       "    </tr>\n",
       "    <tr>\n",
       "      <th>4</th>\n",
       "      <td>2</td>\n",
       "      <td>89774</td>\n",
       "      <td>MMA</td>\n",
       "      <td>1445715200</td>\n",
       "    </tr>\n",
       "  </tbody>\n",
       "</table>\n",
       "</div>"
      ],
      "text/plain": [
       "   userId  movieId              tag   timestamp\n",
       "0       2    60756            funny  1445714994\n",
       "1       2    60756  Highly quotable  1445714996\n",
       "2       2    60756     will ferrell  1445714992\n",
       "3       2    89774     Boxing story  1445715207\n",
       "4       2    89774              MMA  1445715200"
      ]
     },
     "execution_count": 5,
     "metadata": {},
     "output_type": "execute_result"
    }
   ],
   "source": [
    "tags = pd.read_csv('data/tags.csv')\n",
    "tags.head()"
   ]
  },
  {
   "cell_type": "code",
   "execution_count": 9,
   "id": "35042fb3",
   "metadata": {},
   "outputs": [
    {
     "name": "stdout",
     "output_type": "stream",
     "text": [
      "<class 'pandas.core.frame.DataFrame'>\n",
      "RangeIndex: 3683 entries, 0 to 3682\n",
      "Data columns (total 4 columns):\n",
      " #   Column     Non-Null Count  Dtype \n",
      "---  ------     --------------  ----- \n",
      " 0   userId     3683 non-null   int64 \n",
      " 1   movieId    3683 non-null   int64 \n",
      " 2   tag        3683 non-null   object\n",
      " 3   timestamp  3683 non-null   int64 \n",
      "dtypes: int64(3), object(1)\n",
      "memory usage: 115.2+ KB\n"
     ]
    }
   ],
   "source": [
    "tags.info()"
   ]
  },
  {
   "cell_type": "code",
   "execution_count": null,
   "id": "8caa4492",
   "metadata": {},
   "outputs": [],
   "source": []
  },
  {
   "cell_type": "code",
   "execution_count": null,
   "id": "daa62afc",
   "metadata": {},
   "outputs": [],
   "source": []
  },
  {
   "cell_type": "markdown",
   "id": "ce6e2309",
   "metadata": {},
   "source": [
    "## 3. <a name =\"Data-Preparation\"></a> Data Preparation"
   ]
  },
  {
   "cell_type": "markdown",
   "id": "925dbfe4",
   "metadata": {},
   "source": [
    "## 4. <a name =\"Exploratory-Data-Analysis\"></a>Exploratory Data Analysis"
   ]
  },
  {
   "cell_type": "markdown",
   "id": "4ed64968",
   "metadata": {},
   "source": [
    "## 5. <a name =\"Modeling\"></a>  Modeling"
   ]
  },
  {
   "cell_type": "markdown",
   "id": "6ee8f980",
   "metadata": {},
   "source": [
    "## 6. <a name =\"Final-Model-Evaluation\"></a> Evaluation"
   ]
  },
  {
   "cell_type": "markdown",
   "id": "29dcf4c5",
   "metadata": {},
   "source": [
    "## 7. <a name =\"Conclusions\"></a> Conclusions"
   ]
  },
  {
   "cell_type": "markdown",
   "id": "e9068d43",
   "metadata": {},
   "source": [
    "### 7.1 <a name =\"Limitations\"></a> Limitations"
   ]
  },
  {
   "cell_type": "markdown",
   "id": "ef489c6e",
   "metadata": {},
   "source": [
    "### 7.2 <a name =\"Recommendations\"></a> Recommendations"
   ]
  },
  {
   "cell_type": "markdown",
   "id": "10f2252f",
   "metadata": {},
   "source": [
    "### 7.3 <a name =\"Next-Steps\"></a> Next Steps"
   ]
  },
  {
   "cell_type": "markdown",
   "id": "4acb86b7",
   "metadata": {},
   "source": []
  },
  {
   "cell_type": "markdown",
   "id": "bd512d17",
   "metadata": {},
   "source": []
  },
  {
   "cell_type": "markdown",
   "id": "b7604ab6",
   "metadata": {},
   "source": []
  },
  {
   "cell_type": "markdown",
   "id": "59e18779",
   "metadata": {},
   "source": []
  },
  {
   "cell_type": "markdown",
   "id": "0d412a77",
   "metadata": {},
   "source": []
  },
  {
   "cell_type": "markdown",
   "id": "21e73c44",
   "metadata": {},
   "source": []
  },
  {
   "cell_type": "markdown",
   "id": "aebe9a85",
   "metadata": {},
   "source": []
  },
  {
   "cell_type": "markdown",
   "id": "02bc2138",
   "metadata": {},
   "source": []
  },
  {
   "cell_type": "markdown",
   "id": "ddad7bc9",
   "metadata": {},
   "source": []
  },
  {
   "cell_type": "markdown",
   "id": "804434a1",
   "metadata": {},
   "source": []
  }
 ],
 "metadata": {
  "kernelspec": {
   "display_name": "Python (learn-env)",
   "language": "python",
   "name": "learn-env"
  },
  "language_info": {
   "codemirror_mode": {
    "name": "ipython",
    "version": 3
   },
   "file_extension": ".py",
   "mimetype": "text/x-python",
   "name": "python",
   "nbconvert_exporter": "python",
   "pygments_lexer": "ipython3",
   "version": "3.8.5"
  }
 },
 "nbformat": 4,
 "nbformat_minor": 5
}
